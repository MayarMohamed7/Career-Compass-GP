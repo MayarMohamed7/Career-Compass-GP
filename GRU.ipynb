{
  "nbformat": 4,
  "nbformat_minor": 0,
  "metadata": {
    "colab": {
      "provenance": []
    },
    "kernelspec": {
      "name": "python3",
      "display_name": "Python 3"
    },
    "language_info": {
      "name": "python"
    }
  },
  "cells": [
    {
      "cell_type": "code",
      "execution_count": null,
      "metadata": {
        "colab": {
          "base_uri": "https://localhost:8080/"
        },
        "id": "MaWgpGAPG9so",
        "outputId": "5c523a6c-f5b3-4322-e6b6-7e1f1bb493dc"
      },
      "outputs": [
        {
          "output_type": "stream",
          "name": "stdout",
          "text": [
            "Epoch 1/20\n",
            "861/861 [==============================] - 372s 424ms/step - loss: 2.4645 - accuracy: 0.6379 - val_loss: 1.9866 - val_accuracy: 0.6528\n",
            "Epoch 2/20\n",
            "861/861 [==============================] - 364s 422ms/step - loss: 1.7096 - accuracy: 0.7082 - val_loss: 1.5714 - val_accuracy: 0.7222\n",
            "Epoch 3/20\n",
            "861/861 [==============================] - 364s 423ms/step - loss: 1.4536 - accuracy: 0.7337 - val_loss: 1.4336 - val_accuracy: 0.7377\n",
            "Epoch 4/20\n",
            "861/861 [==============================] - 363s 421ms/step - loss: 1.2945 - accuracy: 0.7502 - val_loss: 1.3636 - val_accuracy: 0.7482\n",
            "Epoch 5/20\n",
            "861/861 [==============================] - 361s 420ms/step - loss: 1.1801 - accuracy: 0.7644 - val_loss: 1.3167 - val_accuracy: 0.7560\n",
            "Epoch 6/20\n",
            "861/861 [==============================] - 361s 420ms/step - loss: 1.0889 - accuracy: 0.7775 - val_loss: 1.2919 - val_accuracy: 0.7593\n",
            "Epoch 7/20\n",
            "861/861 [==============================] - 416s 483ms/step - loss: 1.0148 - accuracy: 0.7883 - val_loss: 1.2760 - val_accuracy: 0.7623\n",
            "Epoch 8/20\n",
            "861/861 [==============================] - 366s 425ms/step - loss: 0.9478 - accuracy: 0.8009 - val_loss: 1.2780 - val_accuracy: 0.7647\n",
            "Epoch 9/20\n",
            "861/861 [==============================] - 356s 413ms/step - loss: 0.8865 - accuracy: 0.8116 - val_loss: 1.2986 - val_accuracy: 0.7654\n",
            "Epoch 10/20\n",
            "861/861 [==============================] - 369s 428ms/step - loss: 0.8341 - accuracy: 0.8214 - val_loss: 1.2949 - val_accuracy: 0.7678\n",
            "Epoch 11/20\n",
            "861/861 [==============================] - 372s 432ms/step - loss: 0.7801 - accuracy: 0.8305 - val_loss: 1.3202 - val_accuracy: 0.7690\n",
            "Epoch 12/20\n",
            "861/861 [==============================] - 379s 440ms/step - loss: 0.7328 - accuracy: 0.8409 - val_loss: 1.3468 - val_accuracy: 0.7675\n",
            "Epoch 13/20\n",
            "861/861 [==============================] - 368s 427ms/step - loss: 0.6884 - accuracy: 0.8505 - val_loss: 1.3588 - val_accuracy: 0.7684\n",
            "Epoch 14/20\n",
            "861/861 [==============================] - 367s 426ms/step - loss: 0.6500 - accuracy: 0.8582 - val_loss: 1.3654 - val_accuracy: 0.7699\n",
            "Epoch 15/20\n",
            "861/861 [==============================] - 362s 420ms/step - loss: 0.6122 - accuracy: 0.8654 - val_loss: 1.4102 - val_accuracy: 0.7685\n",
            "Epoch 16/20\n",
            "861/861 [==============================] - 363s 421ms/step - loss: 0.5712 - accuracy: 0.8757 - val_loss: 1.4172 - val_accuracy: 0.7715\n",
            "Epoch 17/20\n",
            "861/861 [==============================] - 361s 419ms/step - loss: 0.5380 - accuracy: 0.8834 - val_loss: 1.4492 - val_accuracy: 0.7691\n",
            "Epoch 18/20\n",
            "861/861 [==============================] - 361s 419ms/step - loss: 0.5021 - accuracy: 0.8909 - val_loss: 1.4605 - val_accuracy: 0.7693\n",
            "Epoch 19/20\n",
            "861/861 [==============================] - 363s 422ms/step - loss: 0.4772 - accuracy: 0.8973 - val_loss: 1.4753 - val_accuracy: 0.7704\n",
            "Epoch 20/20\n",
            "861/861 [==============================] - 363s 421ms/step - loss: 0.4455 - accuracy: 0.9048 - val_loss: 1.5133 - val_accuracy: 0.7688\n",
            "431/431 [==============================] - 31s 73ms/step - loss: 1.5133 - accuracy: 0.7688\n",
            "Test Accuracy: 0.7688398361206055\n"
          ]
        }
      ],
      "source": [
        "import pandas as pd\n",
        "import numpy as np\n",
        "from sklearn.model_selection import train_test_split\n",
        "from sklearn.preprocessing import MultiLabelBinarizer\n",
        "from tensorflow.keras.layers import Embedding, GRU, Dense\n",
        "from tensorflow.keras.models import Sequential\n",
        "from tensorflow.keras.preprocessing.text import Tokenizer\n",
        "from tensorflow.keras.preprocessing.sequence import pad_sequences\n",
        "\n",
        "# Load the dataset\n",
        "data = pd.read_csv('data.csv')\n",
        "\n",
        "# Preprocess the data\n",
        "X = data['Skills'].astype(str).values\n",
        "y = data['Job Title'].astype(str).values\n",
        "\n",
        "# Tokenize the skills\n",
        "tokenizer = Tokenizer()\n",
        "tokenizer.fit_on_texts(X)\n",
        "X_seq = tokenizer.texts_to_sequences(X)\n",
        "\n",
        "# Pad sequences\n",
        "max_length = 100\n",
        "X_pad = pad_sequences(X_seq, maxlen=max_length, padding='post')\n",
        "\n",
        "# One-hot encode the job titles\n",
        "mlb = MultiLabelBinarizer()\n",
        "y_onehot = mlb.fit_transform(y.reshape(-1, 1))\n",
        "\n",
        "# Split the data into training and testing sets\n",
        "X_train, X_test, y_train, y_test = train_test_split(X_pad, y_onehot, test_size=0.2, random_state=42)\n",
        "\n",
        "# Define the GRU model with increased dimensions and more layers\n",
        "model = Sequential([\n",
        "    Embedding(input_dim=len(tokenizer.word_index) + 1, output_dim=300, input_length=max_length),  # Increased output dimension\n",
        "    GRU(128, return_sequences=True),  # Added another GRU layer\n",
        "    GRU(64),  # Added another GRU layer\n",
        "    Dense(y_onehot.shape[1], activation='softmax')\n",
        "])\n",
        "\n",
        "# Compile the model\n",
        "model.compile(optimizer='adam', loss='categorical_crossentropy', metrics=['accuracy'])\n",
        "\n",
        "# Train the model with more epochs\n",
        "model.fit(X_train, y_train, epochs=20, batch_size=64, validation_data=(X_test, y_test))\n",
        "\n",
        "# Evaluate the model\n",
        "loss, accuracy = model.evaluate(X_test, y_test)\n",
        "print('Test Accuracy:', accuracy)\n"
      ]
    }
  ]
}